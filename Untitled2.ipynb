{
 "cells": [
  {
   "cell_type": "markdown",
   "id": "6e4caf9a-b4d7-4dcd-82c3-4c9ec6eb7005",
   "metadata": {},
   "source": [
    "NV center dipole moment is 0.8 Debye\n",
    "\n",
    "1 Debye = 1x10-18 statcoulomb-centimeters\n",
    "        = 3.3356×10-30 coulomb meters\n",
    "        \n",
    "Stark Perturbing Hamiltonian is \n",
    "\n",
    "$\\hat{H}^{\\prime} = -\\vec{d}\\cdot\\vec{F}$"
   ]
  },
  {
   "cell_type": "code",
   "execution_count": null,
   "id": "82809469-d239-4761-a432-12c20249440a",
   "metadata": {},
   "outputs": [],
   "source": []
  }
 ],
 "metadata": {
  "kernelspec": {
   "display_name": "Python 3",
   "language": "python",
   "name": "python3"
  },
  "language_info": {
   "codemirror_mode": {
    "name": "ipython",
    "version": 3
   },
   "file_extension": ".py",
   "mimetype": "text/x-python",
   "name": "python",
   "nbconvert_exporter": "python",
   "pygments_lexer": "ipython3",
   "version": "3.8.8"
  }
 },
 "nbformat": 4,
 "nbformat_minor": 5
}
