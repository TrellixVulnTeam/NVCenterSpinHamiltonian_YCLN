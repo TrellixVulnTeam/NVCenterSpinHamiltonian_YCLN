{
 "cells": [
  {
   "cell_type": "code",
   "execution_count": 1,
   "id": "345bfd62-24a0-4799-8887-d24d9cca678e",
   "metadata": {},
   "outputs": [],
   "source": [
    "# from SpinHamiltonian import ZeemanSpinHamiltonian, HyperfineSpinHamiltonian, ElectronicSpinHamiltonian\n",
    "\n",
    "import numpy as np\n",
    "import pandas as pd\n",
    "import qutip as qt\n",
    "import math\n",
    "\n",
    "import matplotlib.pyplot as plt\n",
    "import matplotlib as mpl\n",
    "\n",
    "mpl.rcParams['figure.figsize'] = (10,6)\n",
    "mpl.rcParams['lines.linewidth'] = 2.5\n",
    "mpl.rcParams['font.size'] = 22"
   ]
  },
  {
   "cell_type": "markdown",
   "id": "8aabc77d-9fc1-40de-8c19-b3cc2110ed88",
   "metadata": {},
   "source": [
    "At the second order in the the local electric field $\\vec{F}$ acting on the NV center, the Stark shift of the electronic transition is given by:\n",
    "\n",
    "$h \\Delta \\nu = -\\Delta\\vec{\\mu} \\cdot \\vec{F} - \\frac{1}{2}\\cdot\\Delta\\vec{\\alpha}\\cdot\\vec{F}$\n",
    "\n",
    ".... where $\\Delta\\vec{\\mu}$ and $\\Delta\\vec{\\alpha}$ are the change in dipole moment and the change of the polarizability tensor between the excited and ground states.\n",
    "\n",
    "The local field F can be determined from the externally applied field E using the Lorentz field approximation $F=E(\\epsilon+2)/3$, where $\\epsilon$ is the dielectric constant for diamond."
   ]
  },
  {
   "cell_type": "code",
   "execution_count": null,
   "id": "94e68e43-0108-41be-b970-4d9c1ac943bf",
   "metadata": {},
   "outputs": [],
   "source": []
  }
 ],
 "metadata": {
  "kernelspec": {
   "display_name": "Python 3",
   "language": "python",
   "name": "python3"
  },
  "language_info": {
   "codemirror_mode": {
    "name": "ipython",
    "version": 3
   },
   "file_extension": ".py",
   "mimetype": "text/x-python",
   "name": "python",
   "nbconvert_exporter": "python",
   "pygments_lexer": "ipython3",
   "version": "3.8.8"
  }
 },
 "nbformat": 4,
 "nbformat_minor": 5
}
