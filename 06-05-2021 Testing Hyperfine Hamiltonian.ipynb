{
 "cells": [
  {
   "cell_type": "code",
   "execution_count": 1,
   "id": "a71ff875-f51d-49cc-a2d9-53a7514598c9",
   "metadata": {},
   "outputs": [],
   "source": [
    "# from SpinHamiltonian import ZeemanSpinHamiltonian, HyperfineSpinHamiltonian, ElectronicSpinHamiltonian\n",
    "\n",
    "import numpy as np\n",
    "import pandas as pd\n",
    "import qutip as qt\n",
    "import math\n",
    "\n",
    "import matplotlib.pyplot as plt\n",
    "import matplotlib as mpl\n",
    "\n",
    "mpl.rcParams['figure.figsize'] = (10,6)\n",
    "mpl.rcParams['lines.linewidth'] = 2.5\n",
    "mpl.rcParams['font.size'] = 22"
   ]
  },
  {
   "cell_type": "code",
   "execution_count": 2,
   "id": "cd408a81-0573-4eb8-af18-e4851fa57fcf",
   "metadata": {},
   "outputs": [],
   "source": [
    "def get_field_components(filename, vb, header=7,):\n",
    "    data =  pd.read_csv(filename, header=header)\n",
    "    names = ['cut_length_um']\n",
    "    for v in vb:\n",
    "        names.append(str(v) + 'V')\n",
    "    data.columns = names \n",
    "    return data\n",
    "\n",
    "vb = np.arange(0,52,1)\n",
    "Ex = get_field_components('data/Ex.txt',vb)\n",
    "\n",
    "Ex_z0um = [Ex[Ex.columns[i]][0] for i in range(len(Ex.columns)-1)]"
   ]
  },
  {
   "cell_type": "code",
   "execution_count": 3,
   "id": "0983960b-a1e2-47a4-8a5c-4d92f26301c1",
   "metadata": {},
   "outputs": [],
   "source": [
    "class SpinHamiltonian:\n",
    "    def __init__(self):\n",
    "        self.sx = qt.jmat(1,'x')\n",
    "        self.sy = qt.jmat(1,'y')\n",
    "        self.sz = qt.jmat(1,'z')\n",
    "\n",
    "        self.ge = 28e09 # Gyromagnetic ratio of NV center\n",
    "        self.D = 2.87e09 # Zero field splitting\n",
    "\n",
    "        self.zero_field = self.D*((self.sz*self.sz)-(2/3)*qt.qeye(3))\n",
    "        \n",
    "        self.ms0 = 0 # Energy of ms=0 state initialized to 0\n",
    "        self.dpar = 0.03\n",
    "        self.dperp = 0.17\n",
    "\n",
    "    def zeeman_interaction(self,B,theta,z):\n",
    "        if z:\n",
    "            Bx = 0\n",
    "            By = 0\n",
    "            Bz = B\n",
    "        else:\n",
    "            Bx = B * math.cos(theta) # calculating B from its magnitude, polar angle\n",
    "            By = B * math.sin(theta)\n",
    "            Bz = 0\n",
    "        Hzee = self.ge*(Bz*self.sz + Bx*self.sx + By*self.sy)\n",
    "        return Hzee\n",
    "    \n",
    "    def electronic_interaction(self,E, theta, z):# z is a flag to distinguish between parallel and perpendicular\n",
    "        Ex = E*math.cos(theta) # calculating E from its magnitude, polar angle.\n",
    "        Ey = E*math.sin(theta)\n",
    "        Ez=0\n",
    "        if z :\n",
    "            Ex =0\n",
    "            Ey =0\n",
    "            Ez = E\n",
    "            \n",
    "        Hes = (self.dpar * (Ez*self.sz**2) -  \n",
    "               self.dperp * (Ex*(self.sx**2-self.sy**2)) +  \n",
    "               self.dpar * (Ey*(self.sx*self.sy + self.sy*self.sx)) )\n",
    "        return Hes\n",
    "\n",
    "    def _get_transition_frequencies(self, B, Btheta, BzFlag, E, Etheta, EzFlag):\n",
    "        H = self.zero_field + self.zeeman_interaction(B,Btheta,BzFlag) + self.electronic_interaction(E, Etheta, EzFlag)\n",
    "        estates = H.eigenstates()\n",
    "        egvals = estates[0]\n",
    "        \n",
    "        if (BzFlag or EzFlag):\n",
    "            z = 1\n",
    "        else:\n",
    "            z = 0\n",
    "        \n",
    "        if(B == 0): self.ms0 = egvals[0] \n",
    "        f1 = egvals[2] - self.ms0 if(z) else egvals[2]-egvals[0] # to distinguish parallel and perpendiculr energies as qutip sorts them\n",
    "        f0 = abs(egvals[1] + egvals[0] - (2*self.ms0)) if(z) else egvals[1]-egvals[0] # absolute value of frequency\n",
    "\n",
    "        return np.array([f1,f0])\n",
    "    \n",
    "    def transition_frequencies(self, B, Btheta, BzFlag, E, Etheta, EzFlag):\n",
    "        \"\"\" Need to generalize this for all  fields \"\"\"\n",
    "        ham = np.vectorize(self._get_transition_frequencies, otypes=[np.ndarray])\n",
    "        # ham = np.vectorize(self.zeeman.transition_frequencies, otypes=[np.ndarray])\n",
    "        trans_freqs = np.array(ham(B, Btheta, BzFlag, E, Etheta, EzFlag))\n",
    "        return np.array(trans_freqs.tolist())"
   ]
  },
  {
   "cell_type": "code",
   "execution_count": 64,
   "id": "40374ffd-e7af-4ee7-b197-c6bb61dde1da",
   "metadata": {},
   "outputs": [],
   "source": [
    "class HyperfineSpinHamiltonian(SpinHamiltonian):\n",
    "    def __init__(self):\n",
    "        SpinHamiltonian.__init__(self)\n",
    "        self.gc = 10.705e6                  # gyromagnetic ratio of C-13 nucleus in Hz/T for hyperfine interaction\n",
    "\n",
    "        self.Axx = 189.3e6\n",
    "        self.Ayy = 128.4e6\n",
    "        self.Azz = 128.9e6\n",
    "        self.Axz = 24.1e6                   # Hyperfine Tensor components in NV frame of reference. Taken from reference 2.\n",
    "        self.Ix = qt.jmat(.5,'x')\n",
    "        self.Iy = qt.jmat(.5,'y')\n",
    "        self.Iz = qt.jmat(.5,'z')            # Spin 1/2 operators for C-13 nucleus\n",
    "\n",
    "        self.comp1 = self.Axx*qt.tensor(self.sx,self.Ix)\n",
    "        self.comp2 = self.Ayy*qt.tensor(self.sy,self.Iy)\n",
    "        self.comp3 = self.Azz*qt.tensor(self.sz,self.Iz)\n",
    "        self.comp4 = self.Axz*(qt.tensor(self.sx,self.Iz)+qt.tensor(self.sz,self.Ix))\n",
    "        self.Hhf = self.comp1 + self.comp2 + self.comp3 + self.comp4\n",
    "\n",
    "        self.zero_field = self.D*(qt.tensor(self.sz*self.sz,qt.qeye(2))-(2/3)*qt.tensor(qt.qeye(3),qt.qeye(2)))\n",
    "        \n",
    "    def hyperfine_interaction(self,Bz):\n",
    "        H = self.gc*Bz*qt.tensor(qt.qeye(3),self.Iz) + self.Hhf  \n",
    "        return H.eigenstates()\n",
    "\n",
    "    def interaction_with_field(self, Bz, E, Etheta, EzFlag):\n",
    "        \"\"\" CHANGE THIS TO CALL OTHER CLASSES \"\"\"\n",
    "#         import pdb; pdb.set_trace()\n",
    "#         H = (self.zero_field + \n",
    "#              self.ge*Bz*qt.tensor(self.sz,qt.qeye(3)) + \n",
    "#              self.hyperfine_interaction(Bz) + \n",
    "#              self.electronic_interaction(E, Etheta, EzFlag))\n",
    "    \n",
    "        H = (self.D*(qt.tensor(self.sz*self.sz,qt.qeye(2))-(2/3)*qt.tensor(qt.qeye(3),qt.qeye(2))) + \n",
    "             self.ge*Bz*qt.tensor(self.sz,qt.qeye(2)) + self.gc*Bz*qt.tensor(qt.qeye(3),self.Iz) + \n",
    "             qt.tensor(self.electronic_interaction(E, Etheta, EzFlag),qt.qeye(2)) +\n",
    "             self.Hhf) \n",
    "\n",
    "#         print(np.size(self.zero_field)) \n",
    "#         print(np.size(self.ge*Bz*qt.tensor(self.sz,qt.qeye(3))))\n",
    "#         print(np.size(self.hyperfine_interaction(Bz)))\n",
    "#         print(np.size(self.electronic_interaction(E, Etheta, EzFlag)))\n",
    "        return H[0]\n",
    "\n",
    "    def transition_freqs(self, Bz, E, Etheta, EzFlag):\n",
    "        egvals = self.interaction_with_field(Bz, E, Etheta, EzFlag)[0]\n",
    "#         print(egvals)\n",
    "        ms0 = (egvals[0] + egvals[1] + egvals[2])/3\t\t# energy of 0 level averaged for simpler graph\n",
    "        return np.array([egvals[2]-ms0, egvals[3]-ms0, egvals[4]-ms0, egvals[5]-ms0])"
   ]
  },
  {
   "cell_type": "code",
   "execution_count": 65,
   "id": "5ed8b16c-c219-4b3b-b4bc-7bb4b99e31bd",
   "metadata": {},
   "outputs": [],
   "source": [
    "ham = HyperfineSpinHamiltonian()"
   ]
  },
  {
   "cell_type": "code",
   "execution_count": 68,
   "id": "8346c085-0482-40ac-95ec-5717d7fdbc4d",
   "metadata": {},
   "outputs": [
    {
     "data": {
      "text/plain": [
       "array([-9.67382596e+09+0.j, -9.66081520e+09+0.j, -9.68234660e+09+0.j,\n",
       "       -9.68234660e+09+0.j])"
      ]
     },
     "execution_count": 68,
     "metadata": {},
     "output_type": "execute_result"
    }
   ],
   "source": [
    "ham.transition_freqs(1,1,0,0)"
   ]
  },
  {
   "cell_type": "code",
   "execution_count": 8,
   "id": "9499ea15-1a6e-4ab3-af11-ae66f89edbb7",
   "metadata": {},
   "outputs": [],
   "source": [
    "class HyperfineSpinHalf():\n",
    "    def __init__(self):\n",
    "        self.sx = qt.jmat(1,'x')\n",
    "        self.sy = qt.jmat(1,'y')\n",
    "        self.sz = qt.jmat(1,'z')            # jmat is higher order spin operator. 1 in this case.\n",
    "        self.ge = 28e9                      # gyromagnetic ratio of electron in Hz/T\n",
    "        self.gc = 10.705e6                  # gyromagnetic ratio of C-13 nucleus in Hz/T for hyperfine interaction\n",
    "        self.D = 2870.2e6                   # zero field splitting frequency in Hz\n",
    "\n",
    "        self.Axx = 189.3e6\n",
    "        self.Ayy = 128.4e6\n",
    "        self.Azz = 128.9e6\n",
    "        self.Axz = 24.1e6                   # Hyperfine Tensor components in NV frame of reference. Taken from reference 2.\n",
    "        self.Ix = qt.jmat(0.5,'x')\n",
    "        self.Iy = qt.jmat(0.5,'y')\n",
    "        self.Iz = qt.jmat(0.5,'z')          # Spin 1/2 operators for C-13 nucleus\n",
    "\n",
    "        self.comp1 = self.Axx*qt.tensor(self.sx,self.Ix)\n",
    "        self.comp2 = self.Ayy*qt.tensor(self.sy,self.Iy)\n",
    "        self.comp3 = self.Azz*qt.tensor(self.sz,self.Iz)\n",
    "        self.comp4 = self.Axz*(qt.tensor(self.sx,self.Iz)+qt.tensor(self.sz,self.Ix))\n",
    "        self.Hhf = self.comp1 + self.comp2 + self.comp3 + self.comp4\n",
    "        \n",
    "        self.zero_field = self.D*(qt.tensor(self.sz*self.sz,qt.qeye(2))-(2/3)*qt.tensor(qt.qeye(3),qt.qeye(2)))\n",
    "        print(np.size(self.zero_field))\n",
    "\n",
    "    def transitionFreqs(self,Bz):\n",
    "        H = self.D*(qt.tensor(self.sz*self.sz,qt.qeye(2))-(2/3)*qt.tensor(qt.qeye(3),qt.qeye(2))) + self.ge*Bz*qt.tensor(self.sz,qt.qeye(2)) + self.gc*Bz*qt.tensor(qt.qeye(3),self.Iz) + self.Hhf \n",
    "        print(np.size(H))\n",
    "        \n",
    "        egvals = H.eigenstates()[0]\n",
    "\n",
    "        ms0 = (egvals[0] + egvals[1])/2\t\t# zero level frequency averaged for simpler B vs F graph\n",
    "        return np.array([egvals[2]-ms0, egvals[3]-ms0, egvals[4]-ms0, egvals[5]-ms0])\n",
    "\n",
    "    def eigenvalues(self,Bz):\n",
    "        H = self.D*(qt.tensor(self.sz*self.sz,qt.qeye(2))-(2/3)*qt.tensor(qt.qeye(3),qt.qeye(2))) + self.ge*Bz*qt.tensor(self.sz,qt.qeye(2)) + self.gc*Bz*qt.tensor(qt.qeye(3),self.Iz) + self.Hhf \n",
    "        \n",
    "        return H.eigenstates()[0]"
   ]
  },
  {
   "cell_type": "code",
   "execution_count": 9,
   "id": "d5f9e5c9-6e8c-4f61-a634-ef66c0f51cba",
   "metadata": {},
   "outputs": [
    {
     "name": "stdout",
     "output_type": "stream",
     "text": [
      "36\n"
     ]
    }
   ],
   "source": [
    "ham = HyperfineSpinHalf()\n",
    "# ham.transitionFreqs(1)"
   ]
  },
  {
   "cell_type": "code",
   "execution_count": null,
   "id": "3dcdc03c-f82a-4b01-a41f-b52a68aa01ec",
   "metadata": {},
   "outputs": [],
   "source": []
  }
 ],
 "metadata": {
  "kernelspec": {
   "display_name": "Python 3",
   "language": "python",
   "name": "python3"
  },
  "language_info": {
   "codemirror_mode": {
    "name": "ipython",
    "version": 3
   },
   "file_extension": ".py",
   "mimetype": "text/x-python",
   "name": "python",
   "nbconvert_exporter": "python",
   "pygments_lexer": "ipython3",
   "version": "3.8.8"
  }
 },
 "nbformat": 4,
 "nbformat_minor": 5
}
